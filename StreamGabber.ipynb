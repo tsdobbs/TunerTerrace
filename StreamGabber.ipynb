{
 "cells": [
  {
   "cell_type": "code",
   "execution_count": 1,
   "metadata": {},
   "outputs": [
    {
     "output_type": "stream",
     "name": "stdout",
     "text": [
      "Requirement already satisfied: pyradios in c:\\users\\timsd\\documents\\repos\\tunerterrace\\venv\\lib\\site-packages (from -r requirements.txt (line 1)) (0.0.22)WARNING: You are using pip version 19.2.3, however version 20.3.3 is available.\n",
      "You should consider upgrading via the 'python -m pip install --upgrade pip' command.\n",
      "\n",
      "Requirement already satisfied: geopy in c:\\users\\timsd\\documents\\repos\\tunerterrace\\venv\\lib\\site-packages (from -r requirements.txt (line 2)) (2.0.0)\n",
      "Requirement already satisfied: numpy in c:\\users\\timsd\\documents\\repos\\tunerterrace\\venv\\lib\\site-packages (from -r requirements.txt (line 3)) (1.19.4)\n",
      "Requirement already satisfied: appdirs>=1.4.3 in c:\\users\\timsd\\documents\\repos\\tunerterrace\\venv\\lib\\site-packages (from pyradios->-r requirements.txt (line 1)) (1.4.4)\n",
      "Requirement already satisfied: requests>=2.22.0 in c:\\users\\timsd\\documents\\repos\\tunerterrace\\venv\\lib\\site-packages (from pyradios->-r requirements.txt (line 1)) (2.25.0)\n",
      "Requirement already satisfied: geographiclib<2,>=1.49 in c:\\users\\timsd\\documents\\repos\\tunerterrace\\venv\\lib\\site-packages (from geopy->-r requirements.txt (line 2)) (1.50)\n",
      "Requirement already satisfied: chardet<4,>=3.0.2 in c:\\users\\timsd\\documents\\repos\\tunerterrace\\venv\\lib\\site-packages (from requests>=2.22.0->pyradios->-r requirements.txt (line 1)) (3.0.4)\n",
      "Requirement already satisfied: certifi>=2017.4.17 in c:\\users\\timsd\\documents\\repos\\tunerterrace\\venv\\lib\\site-packages (from requests>=2.22.0->pyradios->-r requirements.txt (line 1)) (2020.11.8)\n",
      "Requirement already satisfied: idna<3,>=2.5 in c:\\users\\timsd\\documents\\repos\\tunerterrace\\venv\\lib\\site-packages (from requests>=2.22.0->pyradios->-r requirements.txt (line 1)) (2.10)\n",
      "Requirement already satisfied: urllib3<1.27,>=1.21.1 in c:\\users\\timsd\\documents\\repos\\tunerterrace\\venv\\lib\\site-packages (from requests>=2.22.0->pyradios->-r requirements.txt (line 1)) (1.26.2)\n"
     ]
    }
   ],
   "source": [
    "! venv\\Scripts\\activate.bat\n",
    "! pip install -r requirements.txt"
   ]
  },
  {
   "cell_type": "markdown",
   "metadata": {},
   "source": [
    "# Import PyRadios & Create instance of RadioBrowser"
   ]
  },
  {
   "cell_type": "code",
   "execution_count": 2,
   "metadata": {},
   "outputs": [],
   "source": [
    "import numpy as np\n",
    "\n",
    "from pyradios import RadioBrowser\n",
    "from geopy.geocoders import Nominatim\n",
    "from random import shuffle\n",
    "from collections import OrderedDict\n",
    "from IPython.display import FileLink\n",
    "\n",
    "import geo\n",
    "\n",
    "rb = RadioBrowser() # wrapper for the API at https://www.radio-browser.info/\n",
    "geolocator = Nominatim(user_agent=\"TunerTerrace/1.0\") # wrapper for https://nominatim.openstreetmap.org/ui/search.html"
   ]
  },
  {
   "cell_type": "markdown",
   "metadata": {},
   "source": [
    "# Find Country/State/City associated with longitude and latitude\n",
    "\n",
    "We'll try to find a station in Kathmandu:\n",
    "27.7172° N, 85.3240° E\n",
    "\n",
    "Note that geopy accepts all kinds of longitude/latitude formats. N/S  vs. positive/negative, include or don't include degrees are all fine."
   ]
  },
  {
   "cell_type": "code",
   "execution_count": 3,
   "metadata": {},
   "outputs": [
    {
     "output_type": "stream",
     "name": "stdout",
     "text": [
      "Worcester\nProvidence\nSpringfield\nBridgeport\nNew Haven\n"
     ]
    }
   ],
   "source": [
    "cities = geo.get_city_list('+41.9288-72.6481')\n",
    "for city in cities:\n",
    "    print(city['city'])"
   ]
  },
  {
   "cell_type": "markdown",
   "metadata": {},
   "source": [
    "# Find radio stations in/near that city"
   ]
  },
  {
   "cell_type": "code",
   "execution_count": 4,
   "metadata": {},
   "outputs": [],
   "source": [
    "def score_station(sta):\n",
    "    \"\"\"\n",
    "    Assigns a score for how relevant the station is\n",
    "    to be used for ranking the order stations are listed\n",
    "    \"\"\"\n",
    "    #Right now just using strict as a binary sorter\n",
    "    #Could add distance or other info later\n",
    "    relevance_score = sta['strict'] * 1\n",
    "\n",
    "    return relevance_score\n",
    "\n",
    "\n",
    "def get_stations_from_city(loc,rb):\n",
    "    country = loc['countryCode']\n",
    "    state = loc['region']\n",
    "    city = loc['city']\n",
    "\n",
    "    sta_raw_by = dict()\n",
    "    sta_uuid_by = dict()\n",
    "    sta_info_by = dict()\n",
    "\n",
    "    #calls to radio-browser api\n",
    "    #TODO: can probably get this down to one call by querying all at once and doing a little filtering client-side\n",
    "    sta_raw_by['country'] = rb.stations_by_countrycode(code=country)\n",
    "    if len(sta_raw_by['country']) > 1:\n",
    "        sta_raw_by['state'] = rb.stations_by_state(state=state)\n",
    "        sta_raw_by['city_tag'] = rb.stations_by_tag(tag=city)\n",
    "        sta_raw_by['city_name'] = rb.stations_by_name(name=city)\n",
    "\n",
    "    #Make hashable data structures from uuids\n",
    "    for level in sta_raw_by:\n",
    "        sta_uuid_by[level] = {sta['stationuuid'] for sta in sta_raw_by[level]}\n",
    "\n",
    "    sta_candidate_uuids = sta_uuid_by['city_name'].union(sta_uuid_by['city_tag'])\n",
    "    sta_result_uuids = sta_candidate_uuids.intersection(sta_uuid_by['country'])\n",
    "    sta_result_uuids_strict = sta_result_uuids.intersection(sta_uuid_by['state'])\n",
    "\n",
    "    #make searchable dict out of country-wide station list by labelling with uuid\n",
    "    sta_raw_info_dict = {sta['stationuuid']: sta for sta in sta_raw_by['country']}\n",
    "\n",
    "    #select the appropriate station info from the raw info dict and label if they met the requirements for strictness\n",
    "    sta_info_dict = dict()\n",
    "    for uuid in iter(sta_result_uuids):\n",
    "        sta_info_dict[uuid] = sta_raw_info_dict[uuid]\n",
    "\n",
    "        strict = uuid in sta_result_uuids_strict\n",
    "        sta_info_dict[uuid]['strict'] = strict\n",
    "\n",
    "    #TODO: Ghana and Tonga examples fail below, even though it looks like we should still see some of them. Perhaps it's overfiltered? Need to handle less-populace places better\n",
    "\n",
    "    return sta_info_dict\n",
    "\n",
    "\n",
    "def get_stations_from_city_list(loc_ls, rb):  \n",
    "    sta_info = dict()\n",
    "    for loc in loc_ls:\n",
    "        loc_sta_info = get_stations_from_city(loc,rb)\n",
    "        sta_info.update(loc_sta_info)\n",
    "\n",
    "    for uuid in sta_info:\n",
    "        sta = sta_info[uuid]\n",
    "        sta_info[uuid]['relevance_score'] = score_station(sta)\n",
    "\n",
    "    sta_finalists = sorted(sta_info.values(), key=lambda value: value['relevance_score'], reverse=True)\n",
    "\n",
    "    #Filter out low-relevance results. This is so easy with Pandas - use Pandas\n",
    "    if len(sta_finalists) > 3:\n",
    "        scores = []\n",
    "        for sta in sta_finalists:\n",
    "            scores.append(sta['relevance_score'])\n",
    "        min_limit = np.max(scores) - np.std(scores)\n",
    "        sta_display = list(\n",
    "                            filter(lambda station: station['relevance_score'] >= min_limit,\n",
    "                                   sta_finalists\n",
    "                          ))\n",
    "    else:\n",
    "        sta_display = sta_finalists\n",
    "\n",
    "    return sta_display\n",
    "    \n"
   ]
  },
  {
   "cell_type": "markdown",
   "metadata": {},
   "source": [
    "# Pick a station at random from the list"
   ]
  },
  {
   "cell_type": "code",
   "execution_count": 5,
   "metadata": {},
   "outputs": [],
   "source": [
    "def pick_play_station(choice_ls):\n",
    "    \"\"\"\n",
    "    If multiple stations are tied for highest relevance\n",
    "    pick a random one and move it to the top of the list\n",
    "    \"\"\"\n",
    "    #This implementation sucks. Use Pandas for all these data structures\n",
    "    max_score = choice_ls[0]['relevance_score']\n",
    "    options = [choice_ls.pop(0)]\n",
    "    while len(choice_ls) and choice_ls[0]['relevance_score'] == max_score:\n",
    "        options.append(choice_ls.pop(0))\n",
    "    shuffle(options)\n",
    "\n",
    "    choice_ls = options + choice_ls\n",
    "    return choice_ls\n",
    "\n",
    "def display_stations(choice_ls):\n",
    "    for sta in choice_ls:\n",
    "        print(sta['name'] + ' @:')\n",
    "        print(sta['url'])\n",
    "        print('Reception: ' + str(sta['relevance_score'] * 100) + '%')\n",
    "        print('-----')"
   ]
  },
  {
   "cell_type": "markdown",
   "metadata": {},
   "source": [
    "# Put it all together..."
   ]
  },
  {
   "cell_type": "code",
   "execution_count": 18,
   "metadata": {
    "tags": []
   },
   "outputs": [],
   "source": [
    "def show_stations_from_coords(coords):\n",
    "    loc_ls = geo.get_city_list(coords)\n",
    "    print(f'Found {len(loc_ls)} cities: {\", \".join([city[\"name\"] for city in loc_ls])}')\n",
    "    print()\n",
    "    choice_ls = get_stations_from_city_list(loc_ls, rb)\n",
    "    shuffled_choice_ls = pick_play_station(choice_ls)\n",
    "    display_stations(shuffled_choice_ls)"
   ]
  },
  {
   "cell_type": "code",
   "execution_count": 15,
   "metadata": {},
   "outputs": [
    {
     "output_type": "stream",
     "name": "stdout",
     "text": [
      "Found 5 cities: Worcester,Providence,Springfield,Bridgeport,New Haven\n",
      "WORC-AM \"La Mega\" 1310 & 106.1 Worcester, MA @:\n",
      "http://146.71.118.220:35046/stream\n",
      "Reception: 100%\n",
      "-----\n",
      "WCUW 91.3 Clark University - Worcester, MA @:\n",
      "http://peridot.streamguys.com:5490/live\n",
      "Reception: 100%\n",
      "-----\n",
      "WCHC @:\n",
      "https://s2.radio.co/sc161fe4c9/listen\n",
      "Reception: 100%\n",
      "-----\n",
      "WWFX 100.1 \"The Pike 100\" Southbridge, MA @:\n",
      "http://provisioning.streamtheworld.com/pls/WWFXFMAAC.pls\n",
      "Reception: 100%\n",
      "-----\n",
      "WPKN Radio 89.5 Bridgeport, CT @:\n",
      "http://streamcore.elasticbeanstalk.com/wpknhigh.mp3\n",
      "Reception: 100%\n",
      "-----\n",
      "WXLO \"104.5 XLO\" Fitchburg, MA @:\n",
      "http://provisioning.streamtheworld.com/pls/WXLOFMAAC.pls\n",
      "Reception: 100%\n",
      "-----\n",
      "WORC-FM \"Nash Icon 98.9\" Webster, MA @:\n",
      "http://provisioning.streamtheworld.com/pls/WORCFMAAC.pls\n",
      "Reception: 100%\n",
      "-----\n"
     ]
    }
   ],
   "source": [
    "show_stations_from_coords('+41.9288-72.6481')"
   ]
  },
  {
   "cell_type": "markdown",
   "metadata": {},
   "source": [
    "# Try Adelaide, Australia\n",
    "\n",
    "34.9285° S, 138.6007° E"
   ]
  },
  {
   "cell_type": "code",
   "execution_count": 17,
   "metadata": {},
   "outputs": [
    {
     "output_type": "stream",
     "name": "stdout",
     "text": [
      "Found 5 cities: Adelaide, Morphett Vale, Parafield Gardens, Paralowie, Adelaide\n",
      "ABC Local Radio 891 Adelaide (AAC) @:\n",
      "http://live-radio01.mediahubaustralia.com/5LRW/aac/\n",
      "Reception: 100%\n",
      "-----\n",
      "5MBS 99.9 Adelaide, SA @:\n",
      "http://stream.5mbs.com/5mbs-128-mp3\n",
      "Reception: 100%\n",
      "-----\n",
      "Triple M Adelaide @:\n",
      "https://wz5web.scahw.com.au/live/5mmm_128.stream/playlist.m3u8\n",
      "Reception: 100%\n",
      "-----\n",
      "ABC Local Radio 891 Adelaide (MP3) @:\n",
      "http://live-radio01.mediahubaustralia.com/5LRW/mp3/\n",
      "Reception: 100%\n",
      "-----\n"
     ]
    }
   ],
   "source": [
    "show_stations_from_coords('-34.9285+138.6007')"
   ]
  },
  {
   "cell_type": "markdown",
   "metadata": {},
   "source": [
    "There are 4 stations tagged as being from Adelaide, so randomly pick one."
   ]
  },
  {
   "cell_type": "markdown",
   "metadata": {},
   "source": [
    "# Try Tonga!\n",
    "21.1790° S, 175.1982° W"
   ]
  },
  {
   "cell_type": "code",
   "execution_count": 19,
   "metadata": {},
   "outputs": [
    {
     "output_type": "stream",
     "name": "stdout",
     "text": [
      "Found 5 cities: Nuku'alofa, Haveluloto, Vaini (Tonga), ‘Ohonua, Kolonga\n\n"
     ]
    },
    {
     "output_type": "error",
     "ename": "KeyError",
     "evalue": "'city_name'",
     "traceback": [
      "\u001b[1;31m---------------------------------------------------------------------------\u001b[0m",
      "\u001b[1;31mKeyError\u001b[0m                                  Traceback (most recent call last)",
      "\u001b[1;32m<ipython-input-19-12a1cbc31df4>\u001b[0m in \u001b[0;36m<module>\u001b[1;34m\u001b[0m\n\u001b[1;32m----> 1\u001b[1;33m \u001b[0mshow_stations_from_coords\u001b[0m\u001b[1;33m(\u001b[0m\u001b[1;34m'-21.1790-175.1982'\u001b[0m\u001b[1;33m)\u001b[0m\u001b[1;33m\u001b[0m\u001b[1;33m\u001b[0m\u001b[0m\n\u001b[0m",
      "\u001b[1;32m<ipython-input-18-1d8f95f08599>\u001b[0m in \u001b[0;36mshow_stations_from_coords\u001b[1;34m(coords)\u001b[0m\n\u001b[0;32m      3\u001b[0m     \u001b[0mprint\u001b[0m\u001b[1;33m(\u001b[0m\u001b[1;34mf'Found {len(loc_ls)} cities: {\", \".join([city[\"name\"] for city in loc_ls])}'\u001b[0m\u001b[1;33m)\u001b[0m\u001b[1;33m\u001b[0m\u001b[1;33m\u001b[0m\u001b[0m\n\u001b[0;32m      4\u001b[0m     \u001b[0mprint\u001b[0m\u001b[1;33m(\u001b[0m\u001b[1;33m)\u001b[0m\u001b[1;33m\u001b[0m\u001b[1;33m\u001b[0m\u001b[0m\n\u001b[1;32m----> 5\u001b[1;33m     \u001b[0mchoice_ls\u001b[0m \u001b[1;33m=\u001b[0m \u001b[0mget_stations_from_city_list\u001b[0m\u001b[1;33m(\u001b[0m\u001b[0mloc_ls\u001b[0m\u001b[1;33m,\u001b[0m \u001b[0mrb\u001b[0m\u001b[1;33m)\u001b[0m\u001b[1;33m\u001b[0m\u001b[1;33m\u001b[0m\u001b[0m\n\u001b[0m\u001b[0;32m      6\u001b[0m     \u001b[0mshuffled_choice_ls\u001b[0m \u001b[1;33m=\u001b[0m \u001b[0mpick_play_station\u001b[0m\u001b[1;33m(\u001b[0m\u001b[0mchoice_ls\u001b[0m\u001b[1;33m)\u001b[0m\u001b[1;33m\u001b[0m\u001b[1;33m\u001b[0m\u001b[0m\n\u001b[0;32m      7\u001b[0m     \u001b[0mdisplay_stations\u001b[0m\u001b[1;33m(\u001b[0m\u001b[0mshuffled_choice_ls\u001b[0m\u001b[1;33m)\u001b[0m\u001b[1;33m\u001b[0m\u001b[1;33m\u001b[0m\u001b[0m\n",
      "\u001b[1;32m<ipython-input-4-60c1a2da5b78>\u001b[0m in \u001b[0;36mget_stations_from_city_list\u001b[1;34m(loc_ls, rb)\u001b[0m\n\u001b[0;32m     53\u001b[0m     \u001b[0msta_info\u001b[0m \u001b[1;33m=\u001b[0m \u001b[0mdict\u001b[0m\u001b[1;33m(\u001b[0m\u001b[1;33m)\u001b[0m\u001b[1;33m\u001b[0m\u001b[1;33m\u001b[0m\u001b[0m\n\u001b[0;32m     54\u001b[0m     \u001b[1;32mfor\u001b[0m \u001b[0mloc\u001b[0m \u001b[1;32min\u001b[0m \u001b[0mloc_ls\u001b[0m\u001b[1;33m:\u001b[0m\u001b[1;33m\u001b[0m\u001b[1;33m\u001b[0m\u001b[0m\n\u001b[1;32m---> 55\u001b[1;33m         \u001b[0mloc_sta_info\u001b[0m \u001b[1;33m=\u001b[0m \u001b[0mget_stations_from_city\u001b[0m\u001b[1;33m(\u001b[0m\u001b[0mloc\u001b[0m\u001b[1;33m,\u001b[0m\u001b[0mrb\u001b[0m\u001b[1;33m)\u001b[0m\u001b[1;33m\u001b[0m\u001b[1;33m\u001b[0m\u001b[0m\n\u001b[0m\u001b[0;32m     56\u001b[0m         \u001b[0msta_info\u001b[0m\u001b[1;33m.\u001b[0m\u001b[0mupdate\u001b[0m\u001b[1;33m(\u001b[0m\u001b[0mloc_sta_info\u001b[0m\u001b[1;33m)\u001b[0m\u001b[1;33m\u001b[0m\u001b[1;33m\u001b[0m\u001b[0m\n\u001b[0;32m     57\u001b[0m \u001b[1;33m\u001b[0m\u001b[0m\n",
      "\u001b[1;32m<ipython-input-4-60c1a2da5b78>\u001b[0m in \u001b[0;36mget_stations_from_city\u001b[1;34m(loc, rb)\u001b[0m\n\u001b[0;32m     32\u001b[0m         \u001b[0msta_uuid_by\u001b[0m\u001b[1;33m[\u001b[0m\u001b[0mlevel\u001b[0m\u001b[1;33m]\u001b[0m \u001b[1;33m=\u001b[0m \u001b[1;33m{\u001b[0m\u001b[0msta\u001b[0m\u001b[1;33m[\u001b[0m\u001b[1;34m'stationuuid'\u001b[0m\u001b[1;33m]\u001b[0m \u001b[1;32mfor\u001b[0m \u001b[0msta\u001b[0m \u001b[1;32min\u001b[0m \u001b[0msta_raw_by\u001b[0m\u001b[1;33m[\u001b[0m\u001b[0mlevel\u001b[0m\u001b[1;33m]\u001b[0m\u001b[1;33m}\u001b[0m\u001b[1;33m\u001b[0m\u001b[1;33m\u001b[0m\u001b[0m\n\u001b[0;32m     33\u001b[0m \u001b[1;33m\u001b[0m\u001b[0m\n\u001b[1;32m---> 34\u001b[1;33m     \u001b[0msta_candidate_uuids\u001b[0m \u001b[1;33m=\u001b[0m \u001b[0msta_uuid_by\u001b[0m\u001b[1;33m[\u001b[0m\u001b[1;34m'city_name'\u001b[0m\u001b[1;33m]\u001b[0m\u001b[1;33m.\u001b[0m\u001b[0munion\u001b[0m\u001b[1;33m(\u001b[0m\u001b[0msta_uuid_by\u001b[0m\u001b[1;33m[\u001b[0m\u001b[1;34m'city_tag'\u001b[0m\u001b[1;33m]\u001b[0m\u001b[1;33m)\u001b[0m\u001b[1;33m\u001b[0m\u001b[1;33m\u001b[0m\u001b[0m\n\u001b[0m\u001b[0;32m     35\u001b[0m     \u001b[0msta_result_uuids\u001b[0m \u001b[1;33m=\u001b[0m \u001b[0msta_candidate_uuids\u001b[0m\u001b[1;33m.\u001b[0m\u001b[0mintersection\u001b[0m\u001b[1;33m(\u001b[0m\u001b[0msta_uuid_by\u001b[0m\u001b[1;33m[\u001b[0m\u001b[1;34m'country'\u001b[0m\u001b[1;33m]\u001b[0m\u001b[1;33m)\u001b[0m\u001b[1;33m\u001b[0m\u001b[1;33m\u001b[0m\u001b[0m\n\u001b[0;32m     36\u001b[0m     \u001b[0msta_result_uuids_strict\u001b[0m \u001b[1;33m=\u001b[0m \u001b[0msta_result_uuids\u001b[0m\u001b[1;33m.\u001b[0m\u001b[0mintersection\u001b[0m\u001b[1;33m(\u001b[0m\u001b[0msta_uuid_by\u001b[0m\u001b[1;33m[\u001b[0m\u001b[1;34m'state'\u001b[0m\u001b[1;33m]\u001b[0m\u001b[1;33m)\u001b[0m\u001b[1;33m\u001b[0m\u001b[1;33m\u001b[0m\u001b[0m\n",
      "\u001b[1;31mKeyError\u001b[0m: 'city_name'"
     ]
    }
   ],
   "source": [
    "show_stations_from_coords('-21.1790-175.1982')"
   ]
  },
  {
   "cell_type": "markdown",
   "metadata": {},
   "source": [
    "This time there is 1 station in the whole country, so just return that one."
   ]
  },
  {
   "cell_type": "markdown",
   "metadata": {},
   "source": [
    "# Try Buenos Aires!\n",
    "\n",
    "34.6037° S, 58.3816° W"
   ]
  },
  {
   "cell_type": "code",
   "execution_count": 20,
   "metadata": {},
   "outputs": [
    {
     "output_type": "stream",
     "name": "stdout",
     "text": [
      "Found 5 cities: Buenos Aires, La Matanza Partido, La Plata Partido, Lomas de Zamora Partido, Almirante Brown\n",
      "\n",
      "Free FM Buenos Aires @:\n",
      "http://pollux.shoutca.st:8968/\n",
      "Reception: 100%\n",
      "-----\n",
      "Mindalia Buenos Aires @:\n",
      "http://188.165.131.13:7001/live\n",
      "Reception: 100%\n",
      "-----\n",
      "LRA1 Radio Nacional Buenos Aires @:\n",
      "http://sa.mp3.icecast.magma.edge-access.net:7200/sc_rad1\n",
      "Reception: 100%\n",
      "-----\n",
      "Radio Activa FM96.9 - Colectivo Cultural @:\n",
      "http://streaming01.shockmedia.com.ar:9332/stream\n",
      "Reception: 100%\n",
      "-----\n",
      "Mindalia Voz Buenos Aires @:\n",
      "http://188.165.131.13:7007/live\n",
      "Reception: 100%\n",
      "-----\n",
      "FM del 15 - 96.1 @:\n",
      "https://freeus2.listen2myradio.com/live.mp3?typeportmount=s2_37442_stream_449295080\n",
      "Reception: 100%\n",
      "-----\n",
      "Nacional Buenos Aires - LRA1 AM870 @:\n",
      "http://sa.mp3.icecast.magma.edge-access.net:7200/sc_rad1\n",
      "Reception: 100%\n",
      "-----\n",
      "Radio Genesis AM 970 Buenos Aires @:\n",
      "http://streaming.radiolinksmedia.com:7890/;\n",
      "Reception: 100%\n",
      "-----\n"
     ]
    }
   ],
   "source": [
    "show_stations_from_coords('-34.6037-58.3816')"
   ]
  },
  {
   "cell_type": "markdown",
   "metadata": {},
   "source": [
    "# Try LA!"
   ]
  },
  {
   "cell_type": "code",
   "execution_count": 21,
   "metadata": {},
   "outputs": [
    {
     "output_type": "stream",
     "name": "stdout",
     "text": [
      "Found 5 cities: Los Angeles, Long Beach, Anaheim, Santa Ana, Riverside\n",
      "\n",
      "LifeTalkRadio @:\n",
      "http://ltr.streamon.fm/hls/stream/LTR-64k.aac.m3u8\n",
      "Reception: 100%\n",
      "-----\n",
      "KKJZ \"K-JAZZ 88.1\" Long Beach, CA @:\n",
      "http://1.ice1.firststreaming.com/kkjz_fm.aac\n",
      "Reception: 100%\n",
      "-----\n",
      "Kill Radio - Los Angeles, CA @:\n",
      "http://killradio.org:8000/killradio64.mp3.m3u\n",
      "Reception: 100%\n",
      "-----\n",
      "KPFK 90.7 Los Angeles, CA @:\n",
      "http://ic1.mainstreamnetwork.com/kpfk-fm\n",
      "Reception: 100%\n",
      "-----\n",
      "KUCR 88.3 Riverside, CA @:\n",
      "http://138.23.75.92:8001\n",
      "Reception: 100%\n",
      "-----\n",
      "KOLA 99.9 Redlands, CA @:\n",
      "http://provisioning.streamtheworld.com/pls/KOLAFMAAC.pls\n",
      "Reception: 100%\n",
      "-----\n",
      "KSSE \"La Suavecita 107.1\" Arcadia, CA @:\n",
      "http://provisioning.streamtheworld.com/pls/KSSEFMAAC.pls\n",
      "Reception: 100%\n",
      "-----\n",
      "CRN 4 @:\n",
      "http://64.78.234.173:8512/;\n",
      "Reception: 100%\n",
      "-----\n",
      "KXOL \"Mega\" 96.3 FM Los Angeles, CA @:\n",
      "http://stream.abacast.net//playlist//sbsystems-kxolfmaac-ib-64.m3u\n",
      "Reception: 100%\n",
      "-----\n",
      "Playboy Radio @:\n",
      "http://ice55.securenetsystems.net/DASH53\n",
      "Reception: 100%\n",
      "-----\n",
      "CRN 5 @:\n",
      "http://64.78.234.173:8514/;\n",
      "Reception: 100%\n",
      "-----\n",
      "CRN 2 @:\n",
      "http://64.78.234.173:8508/;\n",
      "Reception: 100%\n",
      "-----\n",
      "KLYY \"Jose FM 97.5 & 103.1\" Riverside, CA @:\n",
      "http://provisioning.streamtheworld.com/pls/KLYYFMAAC.pls\n",
      "Reception: 100%\n",
      "-----\n",
      "Free FM Los Angeles @:\n",
      "http://pollux.shoutca.st:8968/\n",
      "Reception: 100%\n",
      "-----\n",
      "KCSN 88.5 Northridge, CA @:\n",
      "http://130.166.82.184:8000/;.mp3\n",
      "Reception: 100%\n",
      "-----\n",
      "CRN 1 @:\n",
      "http://64.78.234.173:8506/;\n",
      "Reception: 100%\n",
      "-----\n",
      "KJLH \"Radio Free 102.3\" Compton, CA @:\n",
      "http://stream.abacast.net/playlist/kjlh-kjlhfmaac-ibc2.m3u\n",
      "Reception: 100%\n",
      "-----\n",
      "CRN 3 @:\n",
      "http://64.78.234.173:8510/;\n",
      "Reception: 100%\n",
      "-----\n",
      "CRN 6 @:\n",
      "http://64.78.234.173:8516/;\n",
      "Reception: 100%\n",
      "-----\n",
      "KLAX \"La Raza\" 97.9 FM East Los Angeles, CA @:\n",
      "http://stream.abacast.net//playlist//sbsystems-klaxfmaac-ib-64.m3u\n",
      "Reception: 100%\n",
      "-----\n",
      "Freewaav Internet Radio @:\n",
      "http://freewaav.com/HLS24/program.m3u8\n",
      "Reception: 100%\n",
      "-----\n",
      "KABC 790 Los Angeles, CA @:\n",
      "http://provisioning.streamtheworld.com/pls/KABCAMAAC.pls\n",
      "Reception: 100%\n",
      "-----\n",
      "CRN 7 @:\n",
      "http://64.78.234.173:8302/;\n",
      "Reception: 100%\n",
      "-----\n",
      "Echo Park Radio @:\n",
      "http://104.63.241.231:8000/listen\n",
      "Reception: 100%\n",
      "-----\n",
      "KRLA 870 \"The Answer\" Los Angeles, CA @:\n",
      "http://provisioning.streamtheworld.com/pls/KRLAAMAAC.pls\n",
      "Reception: 100%\n",
      "-----\n",
      "KXLU 88.9FM Los Angeles, CA @:\n",
      "http://www.ednixon.com:8120/stream\n",
      "Reception: 100%\n",
      "-----\n",
      "KSPN - ESPN 710 AM @:\n",
      "http://edge.espn.cdn.abacast.net/espn-kspnmp3-48?\n",
      "Reception: 100%\n",
      "-----\n",
      "KUSC 91.5 Los Angeles, CA (96kbps AAC) @:\n",
      "http://96.aac.pls.kusc.live/\n",
      "Reception: 100%\n",
      "-----\n",
      "Radio Rock On @:\n",
      "https://streaming.radiostreamlive.com/radiorockon_devices\n",
      "Reception: 100%\n",
      "-----\n",
      "KCSN-HD2 \"The Latin Alternative\" Stream - Northridge, CA @:\n",
      "http://130.166.82.14:8002/;stream.mp3\n",
      "Reception: 100%\n",
      "-----\n",
      "KSPC 88.7 Claremont, CA @:\n",
      "http://37.187.79.93:8419/stream192\n",
      "Reception: 100%\n",
      "-----\n"
     ]
    }
   ],
   "source": [
    "show_stations_from_coords('+34.0522-118.2437')"
   ]
  },
  {
   "cell_type": "markdown",
   "metadata": {},
   "source": [
    "This isn't totally perfect, because it returns a lot of stations for this densely populated area, and one of them is technically in compton, but it's still pretty good."
   ]
  },
  {
   "cell_type": "markdown",
   "metadata": {},
   "source": [
    "# Try Ghana!\n",
    "\n",
    "7.9465° N, 1.0232° W"
   ]
  },
  {
   "cell_type": "code",
   "execution_count": 22,
   "metadata": {},
   "outputs": [
    {
     "output_type": "stream",
     "name": "stdout",
     "text": [
      "Found 5 cities: Ejura, Techiman, Kintampo, Ghana, Mampong, Salaga\n\n"
     ]
    },
    {
     "output_type": "error",
     "ename": "IndexError",
     "evalue": "list index out of range",
     "traceback": [
      "\u001b[1;31m---------------------------------------------------------------------------\u001b[0m",
      "\u001b[1;31mIndexError\u001b[0m                                Traceback (most recent call last)",
      "\u001b[1;32m<ipython-input-22-d2ca1cee1537>\u001b[0m in \u001b[0;36m<module>\u001b[1;34m\u001b[0m\n\u001b[1;32m----> 1\u001b[1;33m \u001b[0mshow_stations_from_coords\u001b[0m\u001b[1;33m(\u001b[0m\u001b[1;34m'+7.9465-1.0232'\u001b[0m\u001b[1;33m)\u001b[0m\u001b[1;33m\u001b[0m\u001b[1;33m\u001b[0m\u001b[0m\n\u001b[0m",
      "\u001b[1;32m<ipython-input-18-1d8f95f08599>\u001b[0m in \u001b[0;36mshow_stations_from_coords\u001b[1;34m(coords)\u001b[0m\n\u001b[0;32m      4\u001b[0m     \u001b[0mprint\u001b[0m\u001b[1;33m(\u001b[0m\u001b[1;33m)\u001b[0m\u001b[1;33m\u001b[0m\u001b[1;33m\u001b[0m\u001b[0m\n\u001b[0;32m      5\u001b[0m     \u001b[0mchoice_ls\u001b[0m \u001b[1;33m=\u001b[0m \u001b[0mget_stations_from_city_list\u001b[0m\u001b[1;33m(\u001b[0m\u001b[0mloc_ls\u001b[0m\u001b[1;33m,\u001b[0m \u001b[0mrb\u001b[0m\u001b[1;33m)\u001b[0m\u001b[1;33m\u001b[0m\u001b[1;33m\u001b[0m\u001b[0m\n\u001b[1;32m----> 6\u001b[1;33m     \u001b[0mshuffled_choice_ls\u001b[0m \u001b[1;33m=\u001b[0m \u001b[0mpick_play_station\u001b[0m\u001b[1;33m(\u001b[0m\u001b[0mchoice_ls\u001b[0m\u001b[1;33m)\u001b[0m\u001b[1;33m\u001b[0m\u001b[1;33m\u001b[0m\u001b[0m\n\u001b[0m\u001b[0;32m      7\u001b[0m     \u001b[0mdisplay_stations\u001b[0m\u001b[1;33m(\u001b[0m\u001b[0mshuffled_choice_ls\u001b[0m\u001b[1;33m)\u001b[0m\u001b[1;33m\u001b[0m\u001b[1;33m\u001b[0m\u001b[0m\n",
      "\u001b[1;32m<ipython-input-5-ab248f1abeb8>\u001b[0m in \u001b[0;36mpick_play_station\u001b[1;34m(choice_ls)\u001b[0m\n\u001b[0;32m      5\u001b[0m     \"\"\"\n\u001b[0;32m      6\u001b[0m     \u001b[1;31m#This implementation sucks. Use Pandas for all these data structures\u001b[0m\u001b[1;33m\u001b[0m\u001b[1;33m\u001b[0m\u001b[1;33m\u001b[0m\u001b[0m\n\u001b[1;32m----> 7\u001b[1;33m     \u001b[0mmax_score\u001b[0m \u001b[1;33m=\u001b[0m \u001b[0mchoice_ls\u001b[0m\u001b[1;33m[\u001b[0m\u001b[1;36m0\u001b[0m\u001b[1;33m]\u001b[0m\u001b[1;33m[\u001b[0m\u001b[1;34m'relevance_score'\u001b[0m\u001b[1;33m]\u001b[0m\u001b[1;33m\u001b[0m\u001b[1;33m\u001b[0m\u001b[0m\n\u001b[0m\u001b[0;32m      8\u001b[0m     \u001b[0moptions\u001b[0m \u001b[1;33m=\u001b[0m \u001b[1;33m[\u001b[0m\u001b[0mchoice_ls\u001b[0m\u001b[1;33m.\u001b[0m\u001b[0mpop\u001b[0m\u001b[1;33m(\u001b[0m\u001b[1;36m0\u001b[0m\u001b[1;33m)\u001b[0m\u001b[1;33m]\u001b[0m\u001b[1;33m\u001b[0m\u001b[1;33m\u001b[0m\u001b[0m\n\u001b[0;32m      9\u001b[0m     \u001b[1;32mwhile\u001b[0m \u001b[0mlen\u001b[0m\u001b[1;33m(\u001b[0m\u001b[0mchoice_ls\u001b[0m\u001b[1;33m)\u001b[0m \u001b[1;32mand\u001b[0m \u001b[0mchoice_ls\u001b[0m\u001b[1;33m[\u001b[0m\u001b[1;36m0\u001b[0m\u001b[1;33m]\u001b[0m\u001b[1;33m[\u001b[0m\u001b[1;34m'relevance_score'\u001b[0m\u001b[1;33m]\u001b[0m \u001b[1;33m==\u001b[0m \u001b[0mmax_score\u001b[0m\u001b[1;33m:\u001b[0m\u001b[1;33m\u001b[0m\u001b[1;33m\u001b[0m\u001b[0m\n",
      "\u001b[1;31mIndexError\u001b[0m: list index out of range"
     ]
    }
   ],
   "source": [
    "show_stations_from_coords('+7.9465-1.0232')"
   ]
  },
  {
   "cell_type": "markdown",
   "metadata": {},
   "source": [
    "# Try Tunis! \n",
    "33.8869° N, 9.5375° E"
   ]
  },
  {
   "cell_type": "code",
   "execution_count": 23,
   "metadata": {},
   "outputs": [
    {
     "output_type": "stream",
     "name": "stdout",
     "text": [
      "Found 5 cities: Tunis, Sousse, Bizerte, Aryanah, Hammamet\n",
      "\n",
      "Panorama Tunis @:\n",
      "https://stream.tun-radio.com/radio/8000/panorama_92\n",
      "Reception: 0%\n",
      "-----\n"
     ]
    }
   ],
   "source": [
    "show_stations_from_coords('+36.81669331025851+10.16049291636662')"
   ]
  },
  {
   "cell_type": "markdown",
   "metadata": {},
   "source": [
    "# Try Seattle!"
   ]
  },
  {
   "cell_type": "code",
   "execution_count": 25,
   "metadata": {},
   "outputs": [
    {
     "output_type": "stream",
     "name": "stdout",
     "text": [
      "Found 5 cities: Seattle, Tacoma, Bellevue, Everett, Kent\n",
      "\n",
      "KIRO - 710 AM ESPN Seattle @:\n",
      "http://playerservices.streamtheworld.com/api/livestream-redirect/KIROAM.mp3\n",
      "Reception: 100%\n",
      "-----\n",
      "KBFG 107.3 Seattle @:\n",
      "http://192.81.134.38:8001/kbfg-1\n",
      "Reception: 100%\n",
      "-----\n",
      "WestSeattle.Online/Radio @:\n",
      "https://stream.radio.co/s80a8b3a06/listen\n",
      "Reception: 100%\n",
      "-----\n",
      "KKNW 1150 \"Alternative Talk\" Seattle, WA @:\n",
      "http://provisioning.streamtheworld.com/pls/KKNWAMAAC.pls\n",
      "Reception: 100%\n",
      "-----\n",
      "KEXP 90.3 Seattle, WA @:\n",
      "http://live-mp3-128.kexp.org:80/kexp128.mp3\n",
      "Reception: 100%\n",
      "-----\n",
      "KNHC \"C89.5\" Seattle, WA @:\n",
      "http://www.c895.org/streams/c895sc128.pls\n",
      "Reception: 100%\n",
      "-----\n",
      "KTTH 770 Seattle, WA @:\n",
      "http://playerservices.streamtheworld.com/m3u/KTTHAMAAC.m3u\n",
      "Reception: 100%\n",
      "-----\n",
      "KEXP 90.3 Seattle, WA @:\n",
      "http://live-aacplus-64.kexp.org/kexp64.aac\n",
      "Reception: 100%\n",
      "-----\n",
      "KBCS 91.3 Bellevue College, WA @:\n",
      "http://www.ophanim.net:7720/stream\n",
      "Reception: 100%\n",
      "-----\n",
      "KXSU 102.1 FM - Seattle University’s Student-Run Radio Station @:\n",
      "https://c556.fastserv.com/kxsu\n",
      "Reception: 100%\n",
      "-----\n",
      "KVRU 105.7 FM | Broadcasting the diverse voices of Southeast Seattle @:\n",
      "http://www.ophanim.net:7740/stream\n",
      "Reception: 100%\n",
      "-----\n",
      "KEXP 90.3 Seattle, WA @:\n",
      "http://live-mp3-128.kexp.org:8000\n",
      "Reception: 100%\n",
      "-----\n",
      "Jazz24 (KNKX 88.5 HD2 Tacoma, WA) [256 AAC+] @:\n",
      "https://live.wostreaming.net/playlist/ppm-jazz24aac256-ibc1.m3u\n",
      "Reception: 100%\n",
      "-----\n",
      "KIRO 97.3 Seattle, WA @:\n",
      "http://playerservices.streamtheworld.com/m3u/KIROFMAAC.m3u\n",
      "Reception: 100%\n",
      "-----\n",
      "KKXA \"KXA 1520\" & 101.1 Everett, WA @:\n",
      "http://www.ophanim.net:9410/stream\n",
      "Reception: 100%\n",
      "-----\n"
     ]
    }
   ],
   "source": [
    "show_stations_from_coords('+47.6062-122.3321')"
   ]
  },
  {
   "cell_type": "markdown",
   "metadata": {},
   "source": [
    "# Try Tokyo!"
   ]
  },
  {
   "cell_type": "code",
   "execution_count": 26,
   "metadata": {},
   "outputs": [
    {
     "output_type": "stream",
     "name": "stdout",
     "text": [
      "Found 5 cities: Tokyo, special wards of Tokyo, Yokohama, Kawasaki, Saitama\n",
      "\n",
      "Musashino FM (むさしのFM, JOZZ3AG-FM, 78.2 MHz, Musashino City, Tokyo) @:\n",
      "http://musicbird.leanstream.co/JCB032-MP3\n",
      "Reception: 100%\n",
      "-----\n",
      "Free FM Tokyo @:\n",
      "http://pollux.shoutca.st:8968/\n",
      "Reception: 100%\n",
      "-----\n",
      "Free Fm Rock Tokyo @:\n",
      "http://tachyon.shoutca.st:8298\n",
      "Reception: 100%\n",
      "-----\n",
      "84.3 FM Edogawa (FMえどがわ, JOZZ3AS-FM, Edogawa City, Tokyo) @:\n",
      "http://musicbird.leanstream.co/JCB032-MP3\n",
      "Reception: 100%\n",
      "-----\n"
     ]
    }
   ],
   "source": [
    "show_stations_from_coords('+35.68183230517904+139.76888063392605')"
   ]
  }
 ],
 "metadata": {
  "kernelspec": {
   "display_name": "Python 3",
   "language": "python",
   "name": "python3"
  },
  "language_info": {
   "codemirror_mode": {
    "name": "ipython",
    "version": 3
   },
   "file_extension": ".py",
   "mimetype": "text/x-python",
   "name": "python",
   "nbconvert_exporter": "python",
   "pygments_lexer": "ipython3",
   "version": "3.7.6-final"
  }
 },
 "nbformat": 4,
 "nbformat_minor": 2
}
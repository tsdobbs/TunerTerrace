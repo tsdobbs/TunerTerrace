{
 "cells": [
  {
   "cell_type": "code",
   "execution_count": 2,
   "metadata": {},
   "outputs": [
    {
     "output_type": "stream",
     "name": "stdout",
     "text": [
      "Collecting pyradios (from -r requirements.txt (line 1))\n",
      "  Downloading https://files.pythonhosted.org/packages/1e/1f/2fd555177390cbde507f1eee8115841d6ce712fe146eb1d1be77facb0d54/pyradios-0.0.22-py3-none-any.whl\n",
      "Collecting geopy (from -r requirements.txt (line 2))\n",
      "  Using cached https://files.pythonhosted.org/packages/07/e1/9c72de674d5c2b8fcb0738a5ceeb5424941fefa080bfe4e240d0bacb5a38/geopy-2.0.0-py3-none-any.whl\n",
      "Collecting requests>=2.22.0 (from pyradios->-r requirements.txt (line 1))\n",
      "  Downloading https://files.pythonhosted.org/packages/39/fc/f91eac5a39a65f75a7adb58eac7fa78871ea9872283fb9c44e6545998134/requests-2.25.0-py2.py3-none-any.whl (61kB)\n",
      "Collecting appdirs>=1.4.3 (from pyradios->-r requirements.txt (line 1))\n",
      "  Using cached https://files.pythonhosted.org/packages/3b/00/2344469e2084fb287c2e0b57b72910309874c3245463acd6cf5e3db69324/appdirs-1.4.4-py2.py3-none-any.whl\n",
      "Collecting geographiclib<2,>=1.49 (from geopy->-r requirements.txt (line 2))\n",
      "  Using cached https://files.pythonhosted.org/packages/8b/62/26ec95a98ba64299163199e95ad1b0e34ad3f4e176e221c40245f211e425/geographiclib-1.50-py3-none-any.whl\n",
      "Collecting idna<3,>=2.5 (from requests>=2.22.0->pyradios->-r requirements.txt (line 1))\n",
      "  Downloading https://files.pythonhosted.org/packages/a2/38/928ddce2273eaa564f6f50de919327bf3a00f091b5baba8dfa9460f3a8a8/idna-2.10-py2.py3-none-any.whl (58kB)\n",
      "Collecting chardet<4,>=3.0.2 (from requests>=2.22.0->pyradios->-r requirements.txt (line 1))\n",
      "  Downloading https://files.pythonhosted.org/packages/bc/a9/01ffebfb562e4274b6487b4bb1ddec7ca55ec7510b22e4c51f14098443b8/chardet-3.0.4-py2.py3-none-any.whl (133kB)\n",
      "WARNING: You are using pip version 19.2.3, however version 20.3 is available.\n",
      "You should consider upgrading via the 'python -m pip install --upgrade pip' command.\n",
      "Collecting urllib3<1.27,>=1.21.1 (from requests>=2.22.0->pyradios->-r requirements.txt (line 1))\n",
      "  Downloading https://files.pythonhosted.org/packages/f5/71/45d36a8df68f3ebb098d6861b2c017f3d094538c0fb98fa61d4dc43e69b9/urllib3-1.26.2-py2.py3-none-any.whl (136kB)\n",
      "Collecting certifi>=2017.4.17 (from requests>=2.22.0->pyradios->-r requirements.txt (line 1))\n",
      "  Downloading https://files.pythonhosted.org/packages/c1/6f/3d85f0850962279a7e4c622695d7b3171e95ac65308a57d3b29738b27149/certifi-2020.11.8-py2.py3-none-any.whl (155kB)\n",
      "Installing collected packages: idna, chardet, urllib3, certifi, requests, appdirs, pyradios, geographiclib, geopy\n",
      "Successfully installed appdirs-1.4.4 certifi-2020.11.8 chardet-3.0.4 geographiclib-1.50 geopy-2.0.0 idna-2.10 pyradios-0.0.22 requests-2.25.0 urllib3-1.26.2\n"
     ]
    }
   ],
   "source": [
    "! venv\\Scripts\\activate.bat\n",
    "! pip install -r requirements.txt"
   ]
  },
  {
   "cell_type": "markdown",
   "metadata": {},
   "source": [
    "# Import PyRadios & Create instance of RadioBrowser"
   ]
  },
  {
   "cell_type": "code",
   "execution_count": 3,
   "metadata": {},
   "outputs": [],
   "source": [
    "from pyradios import RadioBrowser\n",
    "from geopy.geocoders import Nominatim\n",
    "from random import choice\n",
    "from IPython.display import FileLink\n",
    "\n",
    "rb = RadioBrowser() # wrapper for the API at https://www.radio-browser.info/\n",
    "geolocator = Nominatim(user_agent=\"TunerTerrace/1.0\") # wrapper for https://nominatim.openstreetmap.org/ui/search.html"
   ]
  },
  {
   "cell_type": "markdown",
   "metadata": {},
   "source": [
    "# Find Country/State/City associated with longitude and latitude\n",
    "\n",
    "We'll try to find a station in Kathmandu:\n",
    "27.7172° N, 85.3240° E\n",
    "\n",
    "Note that geopy accepts all kinds of longitude/latitude formats. N/S  vs. positive/negative, include or don't include degrees are all fine."
   ]
  },
  {
   "cell_type": "code",
   "execution_count": 6,
   "metadata": {},
   "outputs": [],
   "source": [
    "def reverse_geo(long_lat, geolocator):\n",
    "\n",
    "    location = geolocator.reverse(long_lat, language='en') \n",
    "    country = location.raw['address']['country']\n",
    "    \n",
    "    try:\n",
    "        state = location.raw['address']['state']\n",
    "    except KeyError:\n",
    "        try:\n",
    "            state = location.raw['address']['region']\n",
    "        except KeyError:\n",
    "            #sometimes cities are federal cities and have no state. Close enough\n",
    "            state = location.raw['address']['city']\n",
    "    if state == 'Autonomous City of Buenos Aires':\n",
    "        state = 'Buenos Aires' #I don't have a a better way to deal with this haha\n",
    "\n",
    "    try: \n",
    "        state_district = location.raw['address']['state_district']\n",
    "    except KeyError:\n",
    "        state_district = None\n",
    "    try:\n",
    "        city = location.raw['address']['city']\n",
    "    except KeyError:\n",
    "        city = None\n",
    "    return [country, state, state_district, city]"
   ]
  },
  {
   "cell_type": "code",
   "execution_count": 7,
   "metadata": {},
   "outputs": [
    {
     "output_type": "stream",
     "name": "stdout",
     "text": [
      "['Japan', 'Tokyo', None, 'Tokyo']\n"
     ]
    },
    {
     "output_type": "execute_result",
     "data": {
      "text/plain": [
       "['Nepal', 'Bagmati Pradesh', None, 'Kathmandu']"
      ]
     },
     "metadata": {},
     "execution_count": 7
    }
   ],
   "source": [
    "print(reverse_geo('35°41′23″N 139°41′32″E', geolocator))\n",
    "reverse_geo('27.7172° N, 85.3240° E', geolocator)"
   ]
  },
  {
   "cell_type": "markdown",
   "metadata": {},
   "source": [
    "# Find radio stations in/near that city"
   ]
  },
  {
   "cell_type": "code",
   "execution_count": 11,
   "metadata": {},
   "outputs": [],
   "source": [
    "def get_stations(loc_ls, rb):\n",
    "    country = loc_ls[0] \n",
    "    state = loc_ls[1] \n",
    "    state_district = loc_ls[2] \n",
    "    if loc_ls[3] == 'Autonomous City of Buenos Aires': # Super specific case I don't know how else to deal with\n",
    "        city = 'Buenos Aires'\n",
    "    else:\n",
    "        city =loc_ls[3]\n",
    "    # Find all stations in country\n",
    "    sta_country = rb.stations_by_country(country=country)\n",
    "    print(\"Number of Stations in Country: \" + str(len(sta_country)))\n",
    "    # If only one then you're done\n",
    "    if len(sta_country) == 1:\n",
    "        choice_ls = sta_country\n",
    "    # If none then error\n",
    "    elif len(sta_country)==0:\n",
    "        raise('No Station Found')\n",
    "    \n",
    "    # Now find all stations in state or state district\n",
    "    sta_state = rb.stations_by_state(state=state) \n",
    "    if state_district:\n",
    "        sta_state_dist = rb.stations_by_state(state=state_district) \n",
    "    else:\n",
    "        sta_state_dist = []\n",
    "    sta_state = sta_state + sta_state_dist\n",
    "    \n",
    "    # If more stations in the state then the country than something went wrong, return empty list\n",
    "    if len(sta_state) > len(sta_country) or len(sta_state)==0:\n",
    "        sta_state == []\n",
    "        choice_ls = sta_country\n",
    "    else:\n",
    "        print(\"Number of Stations in State/Province/etc: \" + (str(len(sta_state))))\n",
    "        # If only one station in the state then you're done\n",
    "        if len(sta_state) == 1:\n",
    "            choice_ls = sta_state\n",
    "        # Otherwise find all stations in the city\n",
    "        # TODO: wholistically determine the search metrics such that most stations are found, with few false-positives\n",
    "        else:\n",
    "            sta_city = rb.stations_by_tag(tag=city) \n",
    "            if len(sta_city) > len(sta_state) or len(sta_city)==0:\n",
    "                sta_city = []\n",
    "                print(\"Number of Stations in City: \" + (str(len(sta_city))))\n",
    "                choice_ls = sta_state\n",
    "            else:\n",
    "                print(\"Number of Stations in City: \" + (str(len(sta_city))))\n",
    "                choice_ls = sta_city\n",
    "\n",
    "    # Assume Country is well-curated.\n",
    "    # Logic is\n",
    "    \"\"\"\n",
    "    Check country. If 1, select result. Otherwise:\n",
    "\n",
    "    Check state and add results to a new set\n",
    "    Check city against tag and add results to a new set\n",
    "    Check city against name and add results to a new set\n",
    "\n",
    "    Candidates = union(state, city_tag, city_name)\n",
    "    List = intersection(country, Candidates)\n",
    "    \"\"\"\n",
    "    #This approach is permissive. Names are unstructured data, and tags aren't well-curated, so likely false positives\n",
    "            \n",
    "    return sta_country, sta_state, sta_city"
   ]
  },
  {
   "cell_type": "markdown",
   "metadata": {},
   "source": [
    "# Pick a station at random from the list"
   ]
  },
  {
   "cell_type": "code",
   "execution_count": 9,
   "metadata": {},
   "outputs": [],
   "source": [
    "def pick_stations(choice_ls):\n",
    "    play_me = choice(choice_ls)\n",
    "    print(play_me['name'] + ' @:')\n",
    "\n",
    "    print(play_me['url'])\n",
    "    return play_me"
   ]
  },
  {
   "cell_type": "markdown",
   "metadata": {},
   "source": [
    "# Put it all together..."
   ]
  },
  {
   "cell_type": "code",
   "execution_count": 10,
   "metadata": {},
   "outputs": [
    {
     "output_type": "stream",
     "name": "stdout",
     "text": [
      "Number of Stations in Country: 8\n"
     ]
    },
    {
     "output_type": "error",
     "ename": "UnboundLocalError",
     "evalue": "local variable 'sta_city' referenced before assignment",
     "traceback": [
      "\u001b[1;31m---------------------------------------------------------------------------\u001b[0m",
      "\u001b[1;31mUnboundLocalError\u001b[0m                         Traceback (most recent call last)",
      "\u001b[1;32m<ipython-input-10-fa767963a1e1>\u001b[0m in \u001b[0;36m<module>\u001b[1;34m\u001b[0m\n\u001b[0;32m      1\u001b[0m \u001b[0mloc_ls\u001b[0m \u001b[1;33m=\u001b[0m \u001b[0mreverse_geo\u001b[0m\u001b[1;33m(\u001b[0m\u001b[1;34m'27.7172° N, 85.3240° E'\u001b[0m\u001b[1;33m,\u001b[0m \u001b[0mgeolocator\u001b[0m\u001b[1;33m)\u001b[0m\u001b[1;33m\u001b[0m\u001b[1;33m\u001b[0m\u001b[0m\n\u001b[1;32m----> 2\u001b[1;33m \u001b[0mchoice_ls\u001b[0m \u001b[1;33m=\u001b[0m \u001b[0mget_stations\u001b[0m\u001b[1;33m(\u001b[0m\u001b[0mloc_ls\u001b[0m\u001b[1;33m,\u001b[0m \u001b[0mrb\u001b[0m\u001b[1;33m)\u001b[0m\u001b[1;33m\u001b[0m\u001b[1;33m\u001b[0m\u001b[0m\n\u001b[0m\u001b[0;32m      3\u001b[0m \u001b[0mstation\u001b[0m \u001b[1;33m=\u001b[0m \u001b[0mpick_stations\u001b[0m\u001b[1;33m(\u001b[0m\u001b[0mchoice_ls\u001b[0m\u001b[1;33m)\u001b[0m\u001b[1;33m\u001b[0m\u001b[1;33m\u001b[0m\u001b[0m\n",
      "\u001b[1;32m<ipython-input-8-e7c8bbdcfbb3>\u001b[0m in \u001b[0;36mget_stations\u001b[1;34m(loc_ls, rb)\u001b[0m\n\u001b[0;32m     49\u001b[0m \u001b[1;33m\u001b[0m\u001b[0m\n\u001b[0;32m     50\u001b[0m \u001b[1;33m\u001b[0m\u001b[0m\n\u001b[1;32m---> 51\u001b[1;33m     \u001b[1;32mreturn\u001b[0m \u001b[0msta_country\u001b[0m\u001b[1;33m,\u001b[0m \u001b[0msta_state\u001b[0m\u001b[1;33m,\u001b[0m \u001b[0msta_city\u001b[0m\u001b[1;33m\u001b[0m\u001b[1;33m\u001b[0m\u001b[0m\n\u001b[0m",
      "\u001b[1;31mUnboundLocalError\u001b[0m: local variable 'sta_city' referenced before assignment"
     ]
    }
   ],
   "source": [
    "loc_ls = reverse_geo('27.7172° N, 85.3240° E', geolocator)\n",
    "choice_ls = get_stations(loc_ls, rb)\n",
    "station = pick_stations(choice_ls)"
   ]
  },
  {
   "cell_type": "markdown",
   "metadata": {},
   "source": [
    "There are no stations tagged as being from Kathmandu specifically, but there are 3 stations in the State District that Kathmandu is in, Bagmati.  Therefore, we randomly select a station from that list of 3 stations."
   ]
  },
  {
   "cell_type": "markdown",
   "metadata": {},
   "source": [
    "# Try Adelaide, Australia\n",
    "\n",
    "34.9285° S, 138.6007° E"
   ]
  },
  {
   "cell_type": "code",
   "execution_count": 48,
   "metadata": {},
   "outputs": [
    {
     "output_type": "stream",
     "name": "stdout",
     "text": [
      "Number of Stations in Country: 305\n",
      "Number of Stations in State/Province/etc: 22\n",
      "Number of Stations in City: 3\n",
      "ABC Local Radio 891 Adelaide (AAC) @:\n",
      "http://live-radio01.mediahubaustralia.com/5LRW/aac/\n"
     ]
    }
   ],
   "source": [
    "loc_ls = reverse_geo('34.9285° S, 138.6007° E', geolocator)\n",
    "choice_ls = get_stations(loc_ls, rb)\n",
    "station = pick_stations(choice_ls)"
   ]
  },
  {
   "cell_type": "markdown",
   "metadata": {},
   "source": [
    "There are 4 stations tagged as being from Adelaide, so randomly pick one."
   ]
  },
  {
   "cell_type": "markdown",
   "metadata": {},
   "source": [
    "# Try Tonga!\n",
    "21.1790° S, 175.1982° W"
   ]
  },
  {
   "cell_type": "code",
   "execution_count": 49,
   "metadata": {},
   "outputs": [
    {
     "output_type": "stream",
     "name": "stdout",
     "text": [
      "Number of Stations in Country: 1\nRadio Tonga 101.7 Nuku'alofa @:\nhttp://tbcletio.serverroom.us:8142/;stream.mp3\n"
     ]
    }
   ],
   "source": [
    "loc_ls = reverse_geo('21.1790° S, 175.1982° W', geolocator)\n",
    "choice_ls = get_stations(loc_ls, rb)\n",
    "station = pick_stations(choice_ls)"
   ]
  },
  {
   "cell_type": "markdown",
   "metadata": {},
   "source": [
    "This time there is 1 station in the whole country, so just return that one."
   ]
  },
  {
   "cell_type": "markdown",
   "metadata": {},
   "source": [
    "# Try Buenos Aires!\n",
    "\n",
    "34.6037° S, 58.3816° W"
   ]
  },
  {
   "cell_type": "code",
   "execution_count": 7,
   "metadata": {},
   "outputs": [
    {
     "output_type": "stream",
     "name": "stdout",
     "text": [
      "Number of Stations in Country: 320\n",
      "Number of Stations in State/Province/etc: 105\n",
      "Number of Stations in City: 4\n",
      "Radio Nacional Folklorica 98.7 @:\n",
      "http://sa.mp3.icecast.magma.edge-access.net:7200/sc_rad38\n"
     ]
    }
   ],
   "source": [
    "loc_ls = reverse_geo('34.6037° S, 58.3816° W', geolocator)\n",
    "choice_ls = get_stations(loc_ls, rb)\n",
    "station = pick_stations(choice_ls)"
   ]
  },
  {
   "cell_type": "markdown",
   "metadata": {},
   "source": [
    "# Try LA!"
   ]
  },
  {
   "cell_type": "code",
   "execution_count": 51,
   "metadata": {},
   "outputs": [
    {
     "output_type": "stream",
     "name": "stdout",
     "text": [
      "Number of Stations in Country: 3288\n",
      "Number of Stations in State/Province/etc: 371\n",
      "Number of Stations in City: 28\n",
      "Echo Park Radio @:\n",
      "http://104.63.241.231:8000/listen\n"
     ]
    }
   ],
   "source": [
    "loc_ls = reverse_geo('34.0522° N, 118.2437° W', geolocator)\n",
    "choice_ls = get_stations(loc_ls, rb)\n",
    "station = pick_stations(choice_ls)\n"
   ]
  },
  {
   "cell_type": "markdown",
   "metadata": {},
   "source": [
    "This isn't totally perfect, because it returns a lot of stations for this densely populated area, and one of them is technically in compton, but it's still pretty good."
   ]
  },
  {
   "cell_type": "markdown",
   "metadata": {},
   "source": [
    "# Try Ghana!\n",
    "\n",
    "7.9465° N, 1.0232° W"
   ]
  },
  {
   "cell_type": "code",
   "execution_count": 52,
   "metadata": {},
   "outputs": [
    {
     "output_type": "stream",
     "name": "stdout",
     "text": [
      "Number of Stations in Country: 9\n",
      "Asempa FM 94.7 Accra @:\n",
      "http://stream.zenolive.com/esqh40m4wewtv\n"
     ]
    }
   ],
   "source": [
    "loc_ls = reverse_geo('7.9465° N, 1.0232° W', geolocator)\n",
    "choice_ls = get_stations(loc_ls, rb)\n",
    "station = pick_stations(choice_ls)"
   ]
  },
  {
   "cell_type": "markdown",
   "metadata": {},
   "source": [
    "# Try Tunis! \n",
    "33.8869° N, 9.5375° E"
   ]
  },
  {
   "cell_type": "code",
   "execution_count": 61,
   "metadata": {},
   "outputs": [
    {
     "output_type": "stream",
     "name": "stdout",
     "text": [
      "Number of Stations in Country: 31\n",
      "Number of Stations in State/Province/etc: 6\n",
      "Number of Stations in City: 0\n",
      "Radio Jeunes @:\n",
      "http://rtstream.tanitweb.com/jeunes\n"
     ]
    }
   ],
   "source": [
    "loc_ls = reverse_geo('36°48′23″N 10°10′54″E', geolocator)\n",
    "choice_ls = get_stations(loc_ls, rb)\n",
    "station = pick_stations(choice_ls)"
   ]
  },
  {
   "cell_type": "markdown",
   "metadata": {},
   "source": [
    "# Try Seattle!"
   ]
  },
  {
   "cell_type": "code",
   "execution_count": 54,
   "metadata": {},
   "outputs": [
    {
     "output_type": "stream",
     "name": "stdout",
     "text": [
      "Number of Stations in Country: 3288\n",
      "Number of Stations in State/Province/etc: 141\n",
      "Number of Stations in City: 12\n",
      "WestSeattle.Online/Radio @:\n",
      "https://stream.radio.co/s80a8b3a06/listen\n"
     ]
    }
   ],
   "source": [
    "loc_ls = reverse_geo('47.6062° N, 122.3321° W', geolocator)\n",
    "choice_ls = get_stations(loc_ls, rb)\n",
    "station = pick_stations(choice_ls)"
   ]
  },
  {
   "cell_type": "markdown",
   "metadata": {},
   "source": [
    "# Try Tokyo!"
   ]
  },
  {
   "cell_type": "code",
   "execution_count": 8,
   "metadata": {},
   "outputs": [
    {
     "output_type": "stream",
     "name": "stdout",
     "text": [
      "Number of Stations in Country: 104\n",
      "Number of Stations in State/Province/etc: 11\n",
      "Number of Stations in City: 1\n",
      "Free FM Tokyo @:\n",
      "http://pollux.shoutca.st:8968/\n"
     ]
    }
   ],
   "source": [
    "loc_ls = reverse_geo('35°41′23″N 139°41′32″E', geolocator)\n",
    "choice_ls = get_stations(loc_ls, rb)\n",
    "station = pick_stations(choice_ls)"
   ]
  },
  {
   "cell_type": "code",
   "execution_count": null,
   "metadata": {},
   "outputs": [],
   "source": []
  }
 ],
 "metadata": {
  "kernelspec": {
   "display_name": "Python 3",
   "language": "python",
   "name": "python3"
  },
  "language_info": {
   "codemirror_mode": {
    "name": "ipython",
    "version": 3
   },
   "file_extension": ".py",
   "mimetype": "text/x-python",
   "name": "python",
   "nbconvert_exporter": "python",
   "pygments_lexer": "ipython3",
   "version": "3.7.6-final"
  }
 },
 "nbformat": 4,
 "nbformat_minor": 2
}